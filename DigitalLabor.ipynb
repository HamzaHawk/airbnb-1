{
 "metadata": {
  "name": "",
  "signature": "sha256:ba272e210e134a3f1fc6d387f74b76037f3b992f69dcc9cab73bde66545f7ab9"
 },
 "nbformat": 3,
 "nbformat_minor": 0,
 "worksheets": [
  {
   "cells": [
    {
     "cell_type": "code",
     "collapsed": false,
     "input": [
      "# iPython imports and configuration\n",
      "from IPython.display import Image\n",
      "%matplotlib inline\n",
      "\n",
      "\n",
      "# regular python imports\n",
      "import logging\n",
      "import sqlanydb\n",
      "import matplotlib.pyplot as plt\n",
      "import matplotlib.font_manager as fm\n",
      "import matplotlib\n",
      "# global database connection\n",
      "_conn = None\n",
      "DB_SERVERNAME=\"dbnb\"\n",
      "DB_NAME=\"dbnb\"\n",
      "DB_FILE=\"/home/tom/src/airbnb/db/dbnb.db\"\n",
      "PIECHART_EXPLODE = 0.05\n",
      "\n",
      "logger = logging.getLogger()\n",
      "\n",
      "\n",
      "def connect():\n",
      "    try:\n",
      "        global _conn\n",
      "        if _conn is None:\n",
      "            _conn = sqlanydb.connect(\n",
      "                userid=\"dba\",\n",
      "                password=\"sql\",\n",
      "                serverName=DB_SERVERNAME,\n",
      "                databasename=DB_NAME,\n",
      "                databasefile=DB_FILE)\n",
      "        return _conn\n",
      "    except:\n",
      "        logger.error(\n",
      "            \"Failed to connect to database.\" +\n",
      "            \"You may need to change the DB_FILE value.\")\n",
      "\n",
      "conn = connect()\n",
      "\n",
      "def bar_plot(result_set, title, xlabel, ylabel):\n",
      "    (labels, y) = ([x for x, y in result_set], [y for x, y in result_set])\n",
      "    x = [labels.index(x) for x, y in result_set]\n",
      "    (width, opacity) = (0.4, 0.5)\n",
      "    plt.xlabel(xlabel)\n",
      "    plt.ylabel(ylabel)\n",
      "    plt.title(title)\n",
      "    plt.bar(x, y, align='center', width=width, alpha=opacity, color='g')\n",
      "    plt.xticks(x, labels)\n",
      "    plt.show()  \n",
      "    \n",
      "def piechart_plot(result_set, title):\n",
      "    (labels, fractions,) = ([x for x, y in result_set],\n",
      "                                 [float(y) for x, y in result_set])\n",
      "    explode = [PIECHART_EXPLODE if y < 25 else 0.0 for y in fractions]\n",
      "    plt.title(title, fontsize='x-large', fontweight='bold')\n",
      "    patches, texts, autotexts = plt.pie(fractions,\n",
      "                                        labels=labels,\n",
      "                                        explode=explode,\n",
      "                                        colors=('lightsteelblue',\n",
      "                                            'lightsalmon',\n",
      "                                            'lightyellow',\n",
      "                                            'lightseagreen',\n",
      "                                            'lightslategray',),\n",
      "                                        shadow=False,\n",
      "                                        autopct='%1.1f%%',\n",
      "                                        )\n",
      "    font_properties = fm.FontProperties()\n",
      "    font_properties.set_size('x-large')\n",
      "    plt.setp(autotexts, fontproperties=font_properties)\n",
      "    plt.setp(texts, fontproperties=font_properties)\n",
      "    plt.show()\n",
      "    \n",
      "def room_type_plot(search_area, by_what):\n",
      "    cur = conn.cursor()\n",
      "    sql = \"\"\"select top 1 survey_description, survey_id \n",
      "    from survey key join search_area where search_area.name = ?\n",
      "    order by survey_id desc\"\"\"\n",
      "    cur.execute(sql, (search_area,))\n",
      "    [title, survey_id] = cur.fetchone()\n",
      "    cur.close()\n",
      "    cur = conn.cursor()\n",
      "    sqlpre = \"select room_type, \"\n",
      "    sqlpost = \" from room where survey_id = ? and room_type is not Null group by room_type\"\n",
      "    if by_what == 'rooms' or by_what == 'listings':\n",
      "        by_what_insert = 'count(*)'\n",
      "    elif by_what == 'visits':\n",
      "        by_what_insert = 'sum(reviews)'\n",
      "    elif by_what == 'income':\n",
      "        by_what_insert = 'sum(reviews * price)'\n",
      "    else:\n",
      "        by_what_insert = 'count(*)'   \n",
      "    sql = sqlpre + by_what_insert + sqlpost\n",
      "    cur.execute(sql, (survey_id,))\n",
      "    rs = cur.fetchall()\n",
      "    cur.close()\n",
      "    (xlabel, ylabel)  = ('Room Type', 'Number of Listings')\n",
      "    bar_plot(rs, title, xlabel, ylabel)\n",
      "    #piechart_plot(rs, title) \n",
      "    \n",
      "def multilister_plot(search_area, by_what):\n",
      "    cur = conn.cursor()\n",
      "    sql = \"\"\"select top 1 survey_description, survey_id \n",
      "    from survey key join search_area where search_area.name = ?\n",
      "    order by survey_id desc\"\"\"\n",
      "    cur.execute(sql, (search_area,))\n",
      "    [title, survey_id] = cur.fetchone()\n",
      "    cur.close()\n",
      "    cur = conn.cursor()\n",
      "    sqlpre = \"select if multilister = 1 then 'multi' else 'single' endif, \"\n",
      "    sqlpost = \" from host where survey_id = ? group by multilister order by multilister\"\n",
      "    if by_what == 'hosts':\n",
      "        by_what_insert = 'count(*)'\n",
      "    elif by_what == 'listings':\n",
      "        by_what_insert = 'sum(rooms)'\n",
      "    else:\n",
      "        by_what_insert = 'sum(review_count)'   \n",
      "    sql = sqlpre + by_what_insert + sqlpost\n",
      "    cur.execute(sql, (survey_id,))\n",
      "    rs = cur.fetchall()\n",
      "    cur.close()\n",
      "    (xlabel, ylabel)  = ('Multilister', by_what)\n",
      "    #bar_plot(rs, title, xlabel, ylabel)    \n",
      "    piechart_plot(rs, title)    \n",
      "    \n"
     ],
     "language": "python",
     "metadata": {
      "internals": {
       "slide_helper": "subslide_end",
       "slide_type": "subslide"
      },
      "slide_helper": "slide_end",
      "slideshow": {
       "slide_type": "slide"
      }
     },
     "outputs": []
    },
    {
     "cell_type": "markdown",
     "metadata": {
      "internals": {
       "slide_helper": "subslide_end",
       "slide_type": "subslide"
      },
      "slide_helper": "subslide_end",
      "slideshow": {
       "slide_type": "slide"
      }
     },
     "source": [
      "Room Types\n",
      "====\n",
      "\n",
      "The Airbnb concept came from sharing a room. The Airbnb messaging highlights \"regular people occasionally sharing the home in which they live\". What proportion of Airbnb's business comes from different types of room?"
     ]
    },
    {
     "cell_type": "markdown",
     "metadata": {
      "internals": {
       "slide_type": "subslide"
      },
      "slideshow": {
       "slide_type": "subslide"
      }
     },
     "source": [
      "Enter a city as the first argument and 'listings', 'visits', or 'income' as the second:"
     ]
    },
    {
     "cell_type": "code",
     "collapsed": false,
     "input": [
      "room_type_plot('rome', 'listings')"
     ],
     "language": "python",
     "metadata": {
      "internals": {
       "slide_helper": "subslide_end"
      },
      "slide_helper": "slide_end",
      "slideshow": {
       "slide_type": "-"
      }
     },
     "outputs": [
      {
       "metadata": {},
       "output_type": "display_data",
       "png": "[encoded data removed]",
       "text": [
        "<matplotlib.figure.Figure at 0x7f9701831080>"
       ]
      }
     ],
     "prompt_number": 14
    },
    {
     "cell_type": "markdown",
     "metadata": {
      "internals": {
       "slide_helper": "subslide_end",
       "slide_type": "subslide"
      },
      "slide_helper": "subslide_end",
      "slideshow": {
       "slide_type": "slide"
      }
     },
     "source": [
      "Single listers and multiple listers\n",
      "===="
     ]
    },
    {
     "cell_type": "markdown",
     "metadata": {
      "internals": {
       "slide_type": "subslide"
      },
      "slideshow": {
       "slide_type": "subslide"
      }
     },
     "source": [
      "Enter a city for the first argument, and either *hosts*, *listings*, or *income* for the second argument"
     ]
    },
    {
     "cell_type": "code",
     "collapsed": false,
     "input": [
      "multilister_plot('new york', 'hosts')"
     ],
     "language": "python",
     "metadata": {
      "internals": {},
      "slideshow": {
       "slide_type": "-"
      }
     },
     "outputs": []
    },
    {
     "cell_type": "code",
     "collapsed": false,
     "input": [],
     "language": "python",
     "metadata": {
      "internals": {
       "slide_helper": "subslide_end"
      },
      "slide_helper": "slide_end",
      "slideshow": {
       "slide_type": "-"
      }
     },
     "outputs": []
    }
   ],
   "metadata": {}
  }
 ]
}