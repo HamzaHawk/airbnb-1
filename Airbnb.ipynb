{
 "metadata": {
  "name": "",
  "signature": "sha256:0a4c21b6be639c0654cdb2910346e717658c5163c93546098a50a4f115ca17f9"
 },
 "nbformat": 3,
 "nbformat_minor": 0,
 "worksheets": [
  {
   "cells": [
    {
     "cell_type": "code",
     "collapsed": false,
     "input": [
      "%matplotlib inline"
     ],
     "language": "python",
     "metadata": {},
     "outputs": []
    },
    {
     "cell_type": "code",
     "collapsed": false,
     "input": [
      "import logging\n",
      "import sqlanydb\n",
      "import matplotlib.pyplot as plt\n",
      "import matplotlib.font_manager as fm\n",
      "import matplotlib\n",
      "import pandas as pd\n",
      "import seaborn as sns\n",
      "\n",
      "# global database connection\n",
      "_conn = None\n",
      "DB_SERVERNAME=\"dbnb\"\n",
      "DB_NAME=\"dbnb\"\n",
      "DB_FILE=\"/home/tom/src/airbnb/db/dbnb.db\"\n",
      "PIECHART_EXPLODE = 0.05\n",
      "PLOT_TYPE_BAR = 'bar'\n",
      "PLOT_TYPE_PIE = 'pie'\n",
      "PLOT_TYPE_SCATTER = 'scatter'\n",
      "\n",
      "logger = logging.getLogger()\n",
      "\n",
      "\n",
      "def connect():\n",
      "    try:\n",
      "        global _conn\n",
      "        if _conn is None:\n",
      "            _conn = sqlanydb.connect(\n",
      "                userid=\"dba\",\n",
      "                password=\"sql\",\n",
      "                serverName=DB_SERVERNAME,\n",
      "                databasename=DB_NAME,\n",
      "                databasefile=DB_FILE)\n",
      "        return _conn\n",
      "    except:\n",
      "        logger.error(\n",
      "            \"Failed to connect to database.\" +\n",
      "            \"You may need to change the DB_FILE value.\")\n",
      "\n",
      "conn = connect()\n",
      "\n",
      "# basic plotting functions\n",
      "    \n",
      "def bar_plot(result_set, title, xlabel, ylabel):\n",
      "    sns.set(rc={\"figure.figsize\": (8, 6)})\n",
      "    (labels, y) = ([x for x, y in result_set], [y for x, y in result_set])\n",
      "    x = [labels.index(x) for x, y in result_set]\n",
      "    (width, opacity) = (0.4, 0.5)\n",
      "    plt.xlabel(xlabel)\n",
      "    plt.ylabel(ylabel)\n",
      "    plt.title(title)\n",
      "    plt.bar(x, y, align='center', width=width, alpha=opacity, color='g')\n",
      "    plt.xticks(x, labels)\n",
      "    plt.show()  \n",
      "    \n",
      "def piechart_plot(result_set, title):\n",
      "    sns.set(rc={\"figure.figsize\": (6, 6)})\n",
      "    (labels, fractions,) = ([x for x, y in result_set],\n",
      "                                 [float(y) for x, y in result_set])\n",
      "    # explode = [PIECHART_EXPLODE if y < 25 else 0.0 for y in fractions]\n",
      "    explode = [PIECHART_EXPLODE for y in fractions]\n",
      "    plt.title(title, fontsize='x-large', fontweight='bold')\n",
      "    patches, texts, autotexts = plt.pie(fractions,\n",
      "                                        labels=labels,\n",
      "                                        explode=explode,\n",
      "                                        colors = sns.color_palette('muted'),\n",
      "                                        shadow=False,\n",
      "                                        autopct='%1.1f',\n",
      "                                        )\n",
      "    font_properties = fm.FontProperties()\n",
      "    font_properties.set_size('x-large')\n",
      "    plt.setp(autotexts, fontproperties=font_properties)\n",
      "    plt.setp(texts, fontproperties=font_properties)\n",
      "    plt.show()\n",
      "\n",
      "# utility functions\n",
      "def survey_from_search_area(search_area):\n",
      "    cur = conn.cursor()\n",
      "    sql = \"\"\"select top 1 survey_description, survey_id \n",
      "    from survey key join search_area where search_area.name = ?\n",
      "    order by survey_id desc\"\"\"\n",
      "    cur.execute(sql, (search_area,))\n",
      "    [title, survey_id] = cur.fetchone()\n",
      "    cur.close()\n",
      "    return [title, survey_id]\n",
      "\n",
      "# plot types\n",
      "\n",
      "def room_type_plot(search_area, by_what, plot_type):\n",
      "    [title, survey_id] = survey_from_search_area(search_area)\n",
      "    title = title + \": \" + by_what\n",
      "    cur = conn.cursor()\n",
      "    sqlpre = \"select room_type, \"\n",
      "    sqlpost = \"\"\" from room \n",
      "    where survey_id = ? \n",
      "    and room_type is not Null \n",
      "    group by room_type\n",
      "    order by room_type\"\"\"\n",
      "    if by_what == 'rooms' or by_what == 'listings':\n",
      "        by_what_insert = 'count(*)'\n",
      "    elif by_what == 'visits':\n",
      "        by_what_insert = 'sum(reviews)'\n",
      "    elif by_what == 'income':\n",
      "        by_what_insert = 'sum(reviews * price)'\n",
      "    elif by_what == 'price':\n",
      "        by_what_insert = 'avg(price)'\n",
      "    else:\n",
      "        by_what_insert = 'count(*)'   \n",
      "    sql = sqlpre + by_what_insert + sqlpost\n",
      "    cur.execute(sql, (survey_id,))\n",
      "    rs = cur.fetchall()\n",
      "    cur.close()\n",
      "    (xlabel, ylabel)  = ('Room Type', by_what)\n",
      "    if plot_type == PLOT_TYPE_BAR:\n",
      "        bar_plot(rs, title, xlabel, ylabel)\n",
      "    elif plot_type == PLOT_TYPE_PIE:\n",
      "        piechart_plot(rs, title) \n",
      "    else:\n",
      "        # pie by default\n",
      "        piechart_plot(rs, title) \n",
      "    \n",
      "def nightly_rate_plot(search_area, by_what):\n",
      "    [title, survey_id] = survey_from_search_area(search_area)\n",
      "    cur = conn.cursor()\n",
      "    sqlpre = \"select sum(reviews) review_count, \"\n",
      "    sqlpost = \" from room where survey_id = ? and room_type is not Null group by room_type\"\n",
      "    if by_what == 'rooms' or by_what == 'listings':\n",
      "        by_what_insert = 'count(*)'\n",
      "    elif by_what == 'visits':\n",
      "        by_what_insert = 'sum(reviews)'\n",
      "    elif by_what == 'income':\n",
      "        by_what_insert = 'sum(reviews * price)'\n",
      "    else:\n",
      "        by_what_insert = 'count(*)'   \n",
      "    sql = sqlpre + by_what_insert + sqlpost\n",
      "    cur.execute(sql, (survey_id,))\n",
      "    rs = cur.fetchall()\n",
      "    cur.close()\n",
      "    (xlabel, ylabel)  = ('Room Type', 'Number of Listings')\n",
      "    #bar_plot(rs, title, xlabel, ylabel)\n",
      "    piechart_plot(rs, title) \n",
      "    \n",
      "def multilister_plot(search_area, by_what):\n",
      "    [title, survey_id] = survey_from_search_area(search_area)\n",
      "    title += \": \" + by_what\n",
      "    cur = conn.cursor()\n",
      "    sqlpre = \"select if multilister = 1 then 'multi' else 'single' endif, \"\n",
      "    sqlpost = \" from host where survey_id = ? group by multilister order by multilister\"\n",
      "    if by_what == 'hosts':\n",
      "        by_what_insert = 'count(*)'\n",
      "    elif by_what == 'listings':\n",
      "        by_what_insert = 'sum(rooms)'\n",
      "    else:\n",
      "        by_what_insert = 'sum(review_count)'   \n",
      "    sql = sqlpre + by_what_insert + sqlpost\n",
      "    cur.execute(sql, (survey_id,))\n",
      "    rs = cur.fetchall()\n",
      "    cur.close()\n",
      "    (xlabel, ylabel)  = ('Multilister', by_what)\n",
      "    #bar_plot(rs, title, xlabel, ylabel)    \n",
      "    piechart_plot(rs, title)    "
     ],
     "language": "python",
     "metadata": {
      "internals": {
       "slide_helper": "subslide_end",
       "slide_type": "subslide"
      },
      "slide_helper": "slide_end",
      "slideshow": {
       "slide_type": "slide"
      }
     },
     "outputs": []
    },
    {
     "cell_type": "markdown",
     "metadata": {
      "internals": {
       "slide_helper": "subslide_end",
       "slide_type": "subslide"
      },
      "slide_helper": "subslide_end",
      "slideshow": {
       "slide_type": "slide"
      }
     },
     "source": [
      "Room Types\n",
      "====\n",
      "\n",
      "The Airbnb concept came from sharing a room. The Airbnb messaging highlights \"regular people occasionally sharing the home in which they live\". What proportion of Airbnb's business comes from different types of room?"
     ]
    },
    {
     "cell_type": "code",
     "collapsed": false,
     "input": [
      "# arg0 = city\n",
      "# arg1 = y axis: 'listings', 'visits', 'income', 'price'\n",
      "# arg2 = plot type: 'bar' or 'pie'\n",
      "room_type_plot('rome', 'income', 'pie')"
     ],
     "language": "python",
     "metadata": {
      "internals": {
       "slide_helper": "subslide_end"
      },
      "slide_helper": "slide_end",
      "slideshow": {
       "slide_type": "-"
      }
     },
     "outputs": []
    },
    {
     "cell_type": "markdown",
     "metadata": {
      "internals": {
       "slide_helper": "subslide_end",
       "slide_type": "subslide"
      },
      "slide_helper": "subslide_end",
      "slideshow": {
       "slide_type": "slide"
      }
     },
     "source": [
      "Single listers and multiple listers\n",
      "===="
     ]
    },
    {
     "cell_type": "markdown",
     "metadata": {
      "internals": {
       "slide_type": "subslide"
      },
      "slideshow": {
       "slide_type": "subslide"
      }
     },
     "source": [
      "Enter a city for the first argument, and either *hosts*, *listings*, or *income* for the second argument"
     ]
    },
    {
     "cell_type": "code",
     "collapsed": false,
     "input": [
      "multilister_plot('milan', 'income')"
     ],
     "language": "python",
     "metadata": {
      "internals": {},
      "slideshow": {
       "slide_type": "-"
      }
     },
     "outputs": []
    },
    {
     "cell_type": "code",
     "collapsed": false,
     "input": [
      "# Airbnb Berlin Report\n",
      "cur = conn.cursor()\n",
      "sql = \"\"\"\n",
      "select  sum(reviews*price)/100 est_income,\n",
      "        floor(earnings * 1000) income, \n",
      "        rh.neighborhood nbhd\n",
      "from airbnb.report_berlin rb \n",
      "join room_history(3) rh\n",
      "on rb.neighborhood = rh.neighborhood\n",
      "group by nbhd, income\n",
      "order by income desc\n",
      "\"\"\"\n",
      "cur.execute(sql, )\n",
      "#rs = cur.fetchall()\n",
      "df = pd.DataFrame(data=cur.fetchall(), \n",
      "                  columns=[\"Estimated income\", \"Income\", \"neighborhoods\", ])\n",
      "cur.close()\n",
      "plt.title(\"Berlin\")\n",
      "for index, row in df.iterrows():\n",
      "    plt.annotate(\n",
      "        row[2], \n",
      "        xy = (row[0], row[1]), xytext = (-20,20),\n",
      "        textcoords = 'offset points', ha = 'right', va = 'bottom',\n",
      "        bbox = dict(boxstyle = 'round,pad=0.5', alpha = 0.5),\n",
      "        arrowprops = dict(arrowstyle = '->', connectionstyle = 'arc3,rad=0')\n",
      "    )\n",
      "sns.set(rc={\"figure.figsize\": (8, 6)})\n",
      "sns.regplot(\"Estimated income\",\"Income\", df, label=\"neighborhoods\",\n",
      "            scatter_kws={\"s\": 100, \"alpha\": 1})\n",
      "plt.show()"
     ],
     "language": "python",
     "metadata": {},
     "outputs": []
    },
    {
     "cell_type": "code",
     "collapsed": false,
     "input": [],
     "language": "python",
     "metadata": {},
     "outputs": []
    }
   ],
   "metadata": {}
  }
 ]
}